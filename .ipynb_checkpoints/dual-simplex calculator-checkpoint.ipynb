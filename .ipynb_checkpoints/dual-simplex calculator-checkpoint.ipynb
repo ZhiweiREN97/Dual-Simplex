{
 "cells": [
  {
   "cell_type": "code",
   "execution_count": 210,
   "metadata": {},
   "outputs": [],
   "source": [
    "import numpy as np\n",
    "from fractions import Fraction\n",
    "import copy"
   ]
  },
  {
   "cell_type": "code",
   "execution_count": null,
   "metadata": {},
   "outputs": [],
   "source": []
  },
  {
   "cell_type": "code",
   "execution_count": 221,
   "metadata": {},
   "outputs": [],
   "source": [
    "def dual_simplex(matrix):\n",
    "    r = len(matrix)\n",
    "    c = len(matrix[0])\n",
    "    r = r - 1\n",
    "    c = c - 1\n",
    "    last_col = [x[-1] for x in matrix ]\n",
    "    min_val = min(last_col)\n",
    "    row_index = last_col.index(min_val)\n",
    "    col_flag = 0\n",
    "    k = 0\n",
    "    min_flag = matrix[-1][0] / -matrix[row_index][0]\n",
    "    for i in range(1,c):\n",
    "        k += 1\n",
    "        #print (matrix[row_index][i])\n",
    "        if matrix[row_index][i] <0:\n",
    "            #print (matrix[row_index][i])\n",
    "            tmp_flag = matrix[-1][i] / -matrix[row_index][i]\n",
    "            #print (\"tmp\",tmp_flag)\n",
    "            #print (\"min_flag\", min_flag)\n",
    "            if tmp_flag < min_flag:\n",
    "                col_flag = k\n",
    "                min_flag = tmp_flag\n",
    "    if col_flag ==0 and matrix[row_index][col_flag] >=0:\n",
    "        print (\"Pivot not found\")\n",
    "        return \n",
    "    row_index = int(row_index)\n",
    "    print (\"The pivot is \", str(row_index),str(col_flag))\n",
    "    copy_matrix = copy.deepcopy(matrix)\n",
    "    for i in range(r+1):\n",
    "        for j in range(c+1):\n",
    "            if i == row_index and j == col_flag:\n",
    "                matrix[i][j] = 1/ copy_matrix[i][j]\n",
    "            elif i == row_index:\n",
    "                #print(copy_matrix[i,j],copy_matrix[row_index,col_flag])\n",
    "                b = copy_matrix[i][j] / copy_matrix[row_index][col_flag]\n",
    "                matrix[i][j] = copy_matrix[i][j] / copy_matrix[row_index][col_flag]\n",
    "            elif j == col_flag:\n",
    "                #print(\"i,j\",copy_matrix[i][j],copy_matrix[row_index][col_flag])\n",
    "                matrix[i][j] = - copy_matrix[i][j]/ copy_matrix[row_index][col_flag]\n",
    "                #print(\"col\",matrix[i][j])\n",
    "            else:\n",
    "                reduce = copy_matrix[i][col_flag] * copy_matrix[row_index][j] / copy_matrix[row_index][col_flag]\n",
    "                matrix[i][j] = copy_matrix[i][j] - copy_matrix[i][col_flag] * copy_matrix[row_index][j] / copy_matrix[row_index][col_flag]\n",
    "                \n",
    "    return matrix\n",
    "\n",
    "        \n",
    "        "
   ]
  },
  {
   "cell_type": "code",
   "execution_count": 226,
   "metadata": {},
   "outputs": [
    {
     "name": "stdout",
     "output_type": "stream",
     "text": [
      "The pivot is  2 2\n",
      "origin 7/5\n",
      "reduce 7/5\n",
      "result 0\n",
      "origin -1/5\n",
      "reduce -1/5\n",
      "result 0\n",
      "origin 22/5\n",
      "reduce 2/5\n",
      "result 4\n",
      "origin 1/5\n",
      "reduce -7/15\n",
      "result 2/3\n",
      "origin 2/5\n",
      "reduce 1/15\n",
      "result 1/3\n",
      "origin 21/5\n",
      "reduce -2/15\n",
      "result 13/3\n",
      "origin 13/5\n",
      "reduce 14/15\n",
      "result 5/3\n",
      "origin 6/5\n",
      "reduce -2/15\n",
      "result 4/3\n",
      "origin 128/5\n",
      "reduce 4/15\n",
      "result 76/3\n"
     ]
    },
    {
     "data": {
      "text/plain": [
       "[[Fraction(0, 1), Fraction(0, 1), Fraction(1, 1), Fraction(4, 1)],\n",
       " [Fraction(2, 3), Fraction(1, 3), Fraction(-1, 3), Fraction(13, 3)],\n",
       " [Fraction(7, 3), Fraction(-1, 3), Fraction(-5, 3), Fraction(2, 3)],\n",
       " [Fraction(5, 3), Fraction(4, 3), Fraction(2, 3), Fraction(76, 3)]]"
      ]
     },
     "execution_count": 226,
     "metadata": {},
     "output_type": "execute_result"
    }
   ],
   "source": [
    "a = [[Fraction(7,5),Fraction(-1,5),Fraction(3,5),Fraction(22,5)],[Fraction(1,5),Fraction(2,5),Fraction(-1,5),\n",
    "        Fraction(21,5)],[Fraction(-7,5),Fraction(1,5),Fraction(-3,5),Fraction(-2,5)],[Fraction(13,5),Fraction(6,5),Fraction(2,5),Fraction(128,5)]]\n",
    "a = dual_simplex(a)\n"
   ]
  },
  {
   "cell_type": "code",
   "execution_count": 150,
   "metadata": {},
   "outputs": [
    {
     "data": {
      "text/plain": [
       "Fraction(-3, 1)"
      ]
     },
     "execution_count": 150,
     "metadata": {},
     "output_type": "execute_result"
    }
   ],
   "source": [
    "b = [[Fraction(-3,1),-1/5,3/5,22/5],[1/5,2/5,-1/5,21/5],[-7/5,1/5,-3/5,-2/5],[13/5,6/5,2/5,128/5]]\n",
    "b"
   ]
  },
  {
   "cell_type": "code",
   "execution_count": 179,
   "metadata": {},
   "outputs": [
    {
     "data": {
      "text/plain": [
       "False"
      ]
     },
     "execution_count": 179,
     "metadata": {},
     "output_type": "execute_result"
    }
   ],
   "source": [
    "Fraction(-3,1) >0"
   ]
  },
  {
   "cell_type": "code",
   "execution_count": null,
   "metadata": {},
   "outputs": [],
   "source": []
  }
 ],
 "metadata": {
  "kernelspec": {
   "display_name": "Python 3",
   "language": "python",
   "name": "python3"
  },
  "language_info": {
   "codemirror_mode": {
    "name": "ipython",
    "version": 3
   },
   "file_extension": ".py",
   "mimetype": "text/x-python",
   "name": "python",
   "nbconvert_exporter": "python",
   "pygments_lexer": "ipython3",
   "version": "3.7.6"
  }
 },
 "nbformat": 4,
 "nbformat_minor": 4
}
