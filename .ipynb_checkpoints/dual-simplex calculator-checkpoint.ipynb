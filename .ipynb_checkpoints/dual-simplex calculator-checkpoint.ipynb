{
 "cells": [
  {
   "cell_type": "code",
   "execution_count": 3,
   "metadata": {},
   "outputs": [],
   "source": [
    "import numpy as np\n",
    "from fractions import Fraction\n",
    "import copy"
   ]
  },
  {
   "cell_type": "code",
   "execution_count": null,
   "metadata": {},
   "outputs": [],
   "source": []
  },
  {
   "cell_type": "code",
   "execution_count": 31,
   "metadata": {},
   "outputs": [],
   "source": [
    "def dual_simplex(matrix):\n",
    "    r = len(matrix)\n",
    "    c = len(matrix[0])\n",
    "    r = r - 1\n",
    "    c = c - 1\n",
    "    last_col = [x[-1] for x in matrix ]\n",
    "    min_val = min(last_col)\n",
    "    row_index = last_col.index(min_val)\n",
    "    col_flag = 0\n",
    "    for i in range(c):\n",
    "        if matrix[row_index][i]<0:\n",
    "            min_flag = matrix[-1][i] / -matrix[row_index][i]\n",
    "            tmp_flag = i\n",
    "            k = 1\n",
    "    #min_flag = matrix[-1][0] / -matrix[row_index][0]\n",
    "    for i in range(tmp_flag+1,c):\n",
    "        k += 1\n",
    "        if matrix[row_index][i] <0:\n",
    "            tmp_flag = matrix[-1][i] / -matrix[row_index][i]\n",
    "            if tmp_flag < min_flag:\n",
    "                col_flag = k\n",
    "                min_flag = tmp_flag\n",
    "    if col_flag ==0 and matrix[row_index][col_flag] >=0:\n",
    "        print (\"Pivot not found\")\n",
    "        return \n",
    "    row_index = int(row_index)\n",
    "    print (\"The pivot is \", str(row_index),str(col_flag))\n",
    "    copy_matrix = copy.deepcopy(matrix)\n",
    "    for i in range(r+1):\n",
    "        for j in range(c+1):\n",
    "            if i == row_index and j == col_flag:\n",
    "                matrix[i][j] = 1/ copy_matrix[i][j]\n",
    "            elif i == row_index:\n",
    "                b = copy_matrix[i][j] / copy_matrix[row_index][col_flag]\n",
    "                matrix[i][j] = copy_matrix[i][j] / copy_matrix[row_index][col_flag]\n",
    "            elif j == col_flag:\n",
    "                matrix[i][j] = - copy_matrix[i][j]/ copy_matrix[row_index][col_flag]\n",
    "            else:\n",
    "                reduce = copy_matrix[i][col_flag] * copy_matrix[row_index][j] / copy_matrix[row_index][col_flag]\n",
    "                matrix[i][j] = copy_matrix[i][j] - copy_matrix[i][col_flag] * copy_matrix[row_index][j] / copy_matrix[row_index][col_flag]\n",
    "                \n",
    "    return matrix\n",
    "\n",
    "        \n",
    "        "
   ]
  },
  {
   "cell_type": "code",
   "execution_count": 32,
   "metadata": {},
   "outputs": [
    {
     "name": "stdout",
     "output_type": "stream",
     "text": [
      "The pivot is  2 0\n"
     ]
    },
    {
     "data": {
      "text/plain": [
       "[[Fraction(1, 1), Fraction(0, 1), Fraction(0, 1), Fraction(4, 1)],\n",
       " [Fraction(1, 7), Fraction(3, 7), Fraction(-2, 7), Fraction(29, 7)],\n",
       " [Fraction(-5, 7), Fraction(-1, 7), Fraction(3, 7), Fraction(2, 7)],\n",
       " [Fraction(13, 7), Fraction(11, 7), Fraction(-5, 7), Fraction(174, 7)]]"
      ]
     },
     "execution_count": 32,
     "metadata": {},
     "output_type": "execute_result"
    }
   ],
   "source": [
    "a = [[Fraction(7,5),Fraction(-1,5),Fraction(3,5),Fraction(22,5)],[Fraction(1,5),Fraction(2,5),Fraction(-1,5),\n",
    "        Fraction(21,5)],[Fraction(-7,5),Fraction(1,5),Fraction(-3,5),Fraction(-2,5)],[Fraction(13,5),Fraction(6,5),Fraction(2,5),Fraction(128,5)]]\n",
    "a = dual_simplex(a)\n",
    "a"
   ]
  },
  {
   "cell_type": "code",
   "execution_count": 27,
   "metadata": {},
   "outputs": [
    {
     "data": {
      "text/plain": [
       "[[Fraction(0, 1), Fraction(0, 1), Fraction(1, 1), Fraction(4, 1)],\n",
       " [Fraction(2, 3), Fraction(1, 3), Fraction(-1, 3), Fraction(13, 3)],\n",
       " [Fraction(7, 3), Fraction(-1, 3), Fraction(-5, 3), Fraction(2, 3)],\n",
       " [Fraction(-2, 3), Fraction(-1, 3), Fraction(1, 3), Fraction(-1, 3)],\n",
       " [Fraction(5, 3), Fraction(4, 3), Fraction(2, 3), Fraction(76, 3)]]"
      ]
     },
     "execution_count": 27,
     "metadata": {},
     "output_type": "execute_result"
    }
   ],
   "source": [
    "tmp = copy.deepcopy(a[3])\n",
    "a[3] = [Fraction(-2,3),Fraction(-1,3),Fraction(1,3),Fraction(-1,3)]\n",
    "a.append(tmp)\n",
    "a"
   ]
  },
  {
   "cell_type": "code",
   "execution_count": 28,
   "metadata": {},
   "outputs": [
    {
     "name": "stdout",
     "output_type": "stream",
     "text": [
      "The pivot is  3 0\n"
     ]
    }
   ],
   "source": [
    "a = dual_simplex(a)\n"
   ]
  },
  {
   "cell_type": "code",
   "execution_count": 23,
   "metadata": {},
   "outputs": [
    {
     "data": {
      "text/plain": [
       "[[Fraction(0, 1), Fraction(0, 1), Fraction(1, 1), Fraction(4, 1)],\n",
       " [Fraction(1, 1), Fraction(0, 1), Fraction(0, 1), Fraction(4, 1)],\n",
       " [Fraction(7, 2), Fraction(-3, 2), Fraction(-1, 2), Fraction(-1, 2)],\n",
       " [Fraction(-3, 2), Fraction(1, 2), Fraction(-1, 2), Fraction(1, 2)],\n",
       " [Fraction(5, 2), Fraction(1, 2), Fraction(3, 2), Fraction(49, 2)]]"
      ]
     },
     "execution_count": 23,
     "metadata": {},
     "output_type": "execute_result"
    }
   ],
   "source": [
    "a"
   ]
  },
  {
   "cell_type": "code",
   "execution_count": 25,
   "metadata": {},
   "outputs": [
    {
     "ename": "TypeError",
     "evalue": "object of type 'NoneType' has no len()",
     "output_type": "error",
     "traceback": [
      "\u001b[1;31m---------------------------------------------------------------------------\u001b[0m",
      "\u001b[1;31mTypeError\u001b[0m                                 Traceback (most recent call last)",
      "\u001b[1;32m<ipython-input-25-8b27248ab1b6>\u001b[0m in \u001b[0;36m<module>\u001b[1;34m\u001b[0m\n\u001b[1;32m----> 1\u001b[1;33m \u001b[0ma\u001b[0m \u001b[1;33m=\u001b[0m \u001b[0mdual_simplex\u001b[0m\u001b[1;33m(\u001b[0m\u001b[0ma\u001b[0m\u001b[1;33m)\u001b[0m\u001b[1;33m\u001b[0m\u001b[1;33m\u001b[0m\u001b[0m\n\u001b[0m",
      "\u001b[1;32m<ipython-input-4-c2a68926f549>\u001b[0m in \u001b[0;36mdual_simplex\u001b[1;34m(matrix)\u001b[0m\n\u001b[0;32m      1\u001b[0m \u001b[1;32mdef\u001b[0m \u001b[0mdual_simplex\u001b[0m\u001b[1;33m(\u001b[0m\u001b[0mmatrix\u001b[0m\u001b[1;33m)\u001b[0m\u001b[1;33m:\u001b[0m\u001b[1;33m\u001b[0m\u001b[1;33m\u001b[0m\u001b[0m\n\u001b[1;32m----> 2\u001b[1;33m     \u001b[0mr\u001b[0m \u001b[1;33m=\u001b[0m \u001b[0mlen\u001b[0m\u001b[1;33m(\u001b[0m\u001b[0mmatrix\u001b[0m\u001b[1;33m)\u001b[0m\u001b[1;33m\u001b[0m\u001b[1;33m\u001b[0m\u001b[0m\n\u001b[0m\u001b[0;32m      3\u001b[0m     \u001b[0mc\u001b[0m \u001b[1;33m=\u001b[0m \u001b[0mlen\u001b[0m\u001b[1;33m(\u001b[0m\u001b[0mmatrix\u001b[0m\u001b[1;33m[\u001b[0m\u001b[1;36m0\u001b[0m\u001b[1;33m]\u001b[0m\u001b[1;33m)\u001b[0m\u001b[1;33m\u001b[0m\u001b[1;33m\u001b[0m\u001b[0m\n\u001b[0;32m      4\u001b[0m     \u001b[0mr\u001b[0m \u001b[1;33m=\u001b[0m \u001b[0mr\u001b[0m \u001b[1;33m-\u001b[0m \u001b[1;36m1\u001b[0m\u001b[1;33m\u001b[0m\u001b[1;33m\u001b[0m\u001b[0m\n\u001b[0;32m      5\u001b[0m     \u001b[0mc\u001b[0m \u001b[1;33m=\u001b[0m \u001b[0mc\u001b[0m \u001b[1;33m-\u001b[0m \u001b[1;36m1\u001b[0m\u001b[1;33m\u001b[0m\u001b[1;33m\u001b[0m\u001b[0m\n",
      "\u001b[1;31mTypeError\u001b[0m: object of type 'NoneType' has no len()"
     ]
    }
   ],
   "source": [
    "a = dual_simplex(a)"
   ]
  },
  {
   "cell_type": "code",
   "execution_count": 30,
   "metadata": {},
   "outputs": [
    {
     "name": "stdout",
     "output_type": "stream",
     "text": [
      "1\n",
      "2\n"
     ]
    }
   ],
   "source": []
  },
  {
   "cell_type": "code",
   "execution_count": null,
   "metadata": {},
   "outputs": [],
   "source": []
  }
 ],
 "metadata": {
  "kernelspec": {
   "display_name": "Python 3",
   "language": "python",
   "name": "python3"
  },
  "language_info": {
   "codemirror_mode": {
    "name": "ipython",
    "version": 3
   },
   "file_extension": ".py",
   "mimetype": "text/x-python",
   "name": "python",
   "nbconvert_exporter": "python",
   "pygments_lexer": "ipython3",
   "version": "3.7.6"
  }
 },
 "nbformat": 4,
 "nbformat_minor": 4
}
