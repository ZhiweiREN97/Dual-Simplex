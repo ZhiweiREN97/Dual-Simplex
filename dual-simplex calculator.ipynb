{
 "cells": [
  {
   "cell_type": "code",
   "execution_count": 2,
   "metadata": {},
   "outputs": [],
   "source": [
    "import numpy as np\n",
    "from fractions import Fraction\n",
    "import copy"
   ]
  },
  {
   "cell_type": "code",
   "execution_count": null,
   "metadata": {},
   "outputs": [],
   "source": []
  },
  {
   "cell_type": "code",
   "execution_count": 8,
   "metadata": {},
   "outputs": [],
   "source": [
    "def dual_simplex(matrix):\n",
    "    r = len(matrix)\n",
    "    c = len(matrix[0])\n",
    "    r = r - 1\n",
    "    c = c - 1\n",
    "    last_col = [x[-1] for x in matrix ]\n",
    "    min_val = min(last_col)\n",
    "    row_index = last_col.index(min_val)\n",
    "    col_flag = 0\n",
    "    k = 0\n",
    "    tmp_flag = 0\n",
    "    min_flag = matrix[-1][0] / -matrix[row_index][0]\n",
    "    if matrix[row_index][0]>0:\n",
    "        tmp_flag = 1\n",
    "    for i in range(1,c):\n",
    "        k += 1\n",
    "        #print (matrix[row_index][i])\n",
    "        if matrix[row_index][i] <0:\n",
    "            if tmp_flag ==1:\n",
    "                col_flag = k\n",
    "                min_flag = tmp_flag\n",
    "                tmp_flag = 0\n",
    "            #print (matrix[row_index][i])\n",
    "            tmp_flag = matrix[-1][i] / -matrix[row_index][i]\n",
    "            #print (\"tmp\",tmp_flag)\n",
    "            #print (\"min_flag\", min_flag)\n",
    "            if tmp_flag < min_flag:\n",
    "                col_flag = k\n",
    "                min_flag = tmp_flag\n",
    "    if col_flag ==0 and matrix[row_index][col_flag] >=0:\n",
    "        print (\"Pivot not found\")\n",
    "        return \n",
    "    row_index = int(row_index)\n",
    "    print (\"The pivot is \", str(row_index),str(col_flag))\n",
    "    copy_matrix = copy.deepcopy(matrix)\n",
    "    for i in range(r+1):\n",
    "        for j in range(c+1):\n",
    "            if i == row_index and j == col_flag:\n",
    "                matrix[i][j] = 1/ copy_matrix[i][j]\n",
    "            elif i == row_index:\n",
    "                #print(copy_matrix[i,j],copy_matrix[row_index,col_flag])\n",
    "                b = copy_matrix[i][j] / copy_matrix[row_index][col_flag]\n",
    "                matrix[i][j] = copy_matrix[i][j] / copy_matrix[row_index][col_flag]\n",
    "            elif j == col_flag:\n",
    "                #print(\"i,j\",copy_matrix[i][j],copy_matrix[row_index][col_flag])\n",
    "                matrix[i][j] = - copy_matrix[i][j]/ copy_matrix[row_index][col_flag]\n",
    "                #print(\"col\",matrix[i][j])\n",
    "            else:\n",
    "                reduce = copy_matrix[i][col_flag] * copy_matrix[row_index][j] / copy_matrix[row_index][col_flag]\n",
    "                matrix[i][j] = copy_matrix[i][j] - copy_matrix[i][col_flag] * copy_matrix[row_index][j] / copy_matrix[row_index][col_flag]\n",
    "                \n",
    "    return matrix\n",
    "\n",
    "        \n",
    "        "
   ]
  },
  {
   "cell_type": "code",
   "execution_count": 65,
   "metadata": {},
   "outputs": [
    {
     "name": "stdout",
     "output_type": "stream",
     "text": [
      "The pivot is  2 2\n"
     ]
    },
    {
     "data": {
      "text/plain": [
       "[[Fraction(0, 1), Fraction(0, 1), Fraction(1, 1), Fraction(4, 1)],\n",
       " [Fraction(2, 3), Fraction(1, 3), Fraction(-1, 3), Fraction(13, 3)],\n",
       " [Fraction(7, 3), Fraction(-1, 3), Fraction(-5, 3), Fraction(2, 3)],\n",
       " [Fraction(5, 3), Fraction(4, 3), Fraction(2, 3), Fraction(76, 3)]]"
      ]
     },
     "execution_count": 65,
     "metadata": {},
     "output_type": "execute_result"
    }
   ],
   "source": [
    "a = [[Fraction(7,5),Fraction(-1,5),Fraction(3,5),Fraction(22,5)],[Fraction(1,5),Fraction(2,5),Fraction(-1,5),\n",
    "        Fraction(21,5)],[Fraction(-7,5),Fraction(1,5),Fraction(-3,5),Fraction(-2,5)],[Fraction(13,5),Fraction(6,5),Fraction(2,5),Fraction(128,5)]]\n",
    "a = dual_simplex(a)\n",
    "a"
   ]
  },
  {
   "cell_type": "code",
   "execution_count": 66,
   "metadata": {},
   "outputs": [
    {
     "data": {
      "text/plain": [
       "[[Fraction(0, 1), Fraction(0, 1), Fraction(1, 1), Fraction(4, 1)],\n",
       " [Fraction(2, 3), Fraction(1, 3), Fraction(-1, 3), Fraction(13, 3)],\n",
       " [Fraction(7, 3), Fraction(-1, 3), Fraction(-5, 3), Fraction(2, 3)],\n",
       " [Fraction(-2, 3), Fraction(-1, 3), Fraction(1, 3), Fraction(-1, 3)],\n",
       " [Fraction(5, 3), Fraction(4, 3), Fraction(2, 3), Fraction(76, 3)]]"
      ]
     },
     "execution_count": 66,
     "metadata": {},
     "output_type": "execute_result"
    }
   ],
   "source": [
    "tmp = copy.deepcopy(a[3])\n",
    "a[3] = [Fraction(-2,3),Fraction(-1,3),Fraction(1,3),Fraction(-1,3)]\n",
    "a.append(tmp)\n",
    "a"
   ]
  },
  {
   "cell_type": "code",
   "execution_count": 67,
   "metadata": {},
   "outputs": [
    {
     "name": "stdout",
     "output_type": "stream",
     "text": [
      "The pivot is  3 0\n"
     ]
    }
   ],
   "source": [
    "a = dual_simplex(a)\n"
   ]
  },
  {
   "cell_type": "code",
   "execution_count": 68,
   "metadata": {},
   "outputs": [
    {
     "data": {
      "text/plain": [
       "[[Fraction(0, 1), Fraction(0, 1), Fraction(1, 1), Fraction(4, 1)],\n",
       " [Fraction(1, 1), Fraction(0, 1), Fraction(0, 1), Fraction(4, 1)],\n",
       " [Fraction(7, 2), Fraction(-3, 2), Fraction(-1, 2), Fraction(-1, 2)],\n",
       " [Fraction(-3, 2), Fraction(1, 2), Fraction(-1, 2), Fraction(1, 2)],\n",
       " [Fraction(5, 2), Fraction(1, 2), Fraction(3, 2), Fraction(49, 2)]]"
      ]
     },
     "execution_count": 68,
     "metadata": {},
     "output_type": "execute_result"
    }
   ],
   "source": [
    "a"
   ]
  },
  {
   "cell_type": "code",
   "execution_count": 69,
   "metadata": {},
   "outputs": [
    {
     "name": "stdout",
     "output_type": "stream",
     "text": [
      "The pivot is  2 1\n"
     ]
    }
   ],
   "source": [
    "a = dual_simplex(a)"
   ]
  },
  {
   "cell_type": "code",
   "execution_count": 70,
   "metadata": {},
   "outputs": [
    {
     "data": {
      "text/plain": [
       "[[Fraction(0, 1), Fraction(0, 1), Fraction(1, 1), Fraction(4, 1)],\n",
       " [Fraction(1, 1), Fraction(0, 1), Fraction(0, 1), Fraction(4, 1)],\n",
       " [Fraction(-7, 3), Fraction(-2, 3), Fraction(1, 3), Fraction(1, 3)],\n",
       " [Fraction(-1, 3), Fraction(1, 3), Fraction(-2, 3), Fraction(1, 3)],\n",
       " [Fraction(11, 3), Fraction(1, 3), Fraction(4, 3), Fraction(73, 3)]]"
      ]
     },
     "execution_count": 70,
     "metadata": {},
     "output_type": "execute_result"
    }
   ],
   "source": [
    "a"
   ]
  },
  {
   "cell_type": "code",
   "execution_count": 71,
   "metadata": {},
   "outputs": [
    {
     "data": {
      "text/plain": [
       "[[Fraction(0, 1), Fraction(0, 1), Fraction(1, 1), Fraction(4, 1)],\n",
       " [Fraction(1, 1), Fraction(0, 1), Fraction(0, 1), Fraction(4, 1)],\n",
       " [Fraction(-7, 3), Fraction(-2, 3), Fraction(1, 3), Fraction(1, 3)],\n",
       " [Fraction(-1, 3), Fraction(1, 3), Fraction(-2, 3), Fraction(1, 3)],\n",
       " [Fraction(-1, 3), Fraction(1, 3), Fraction(-2, 3), Fraction(-2, 3)],\n",
       " [Fraction(11, 3), Fraction(1, 3), Fraction(4, 3), Fraction(73, 3)]]"
      ]
     },
     "execution_count": 71,
     "metadata": {},
     "output_type": "execute_result"
    }
   ],
   "source": [
    "tmp = copy.deepcopy(a[-1])\n",
    "a[-1] = [Fraction(-1,3),Fraction(1,3),Fraction(-2,3),Fraction(-2,3)]\n",
    "a.append(tmp)\n",
    "a"
   ]
  },
  {
   "cell_type": "code",
   "execution_count": 72,
   "metadata": {},
   "outputs": [
    {
     "name": "stdout",
     "output_type": "stream",
     "text": [
      "The pivot is  4 2\n"
     ]
    }
   ],
   "source": [
    "a = dual_simplex(a)"
   ]
  },
  {
   "cell_type": "code",
   "execution_count": 73,
   "metadata": {},
   "outputs": [
    {
     "data": {
      "text/plain": [
       "[[Fraction(-1, 2), Fraction(1, 2), Fraction(3, 2), Fraction(3, 1)],\n",
       " [Fraction(1, 1), Fraction(0, 1), Fraction(0, 1), Fraction(4, 1)],\n",
       " [Fraction(-5, 2), Fraction(-1, 2), Fraction(1, 2), Fraction(0, 1)],\n",
       " [Fraction(0, 1), Fraction(0, 1), Fraction(-1, 1), Fraction(1, 1)],\n",
       " [Fraction(1, 2), Fraction(-1, 2), Fraction(-3, 2), Fraction(1, 1)],\n",
       " [Fraction(3, 1), Fraction(1, 1), Fraction(2, 1), Fraction(23, 1)]]"
      ]
     },
     "execution_count": 73,
     "metadata": {},
     "output_type": "execute_result"
    }
   ],
   "source": [
    "a"
   ]
  },
  {
   "cell_type": "code",
   "execution_count": 78,
   "metadata": {},
   "outputs": [
    {
     "name": "stdout",
     "output_type": "stream",
     "text": [
      "The pivot is  2 2\n"
     ]
    }
   ],
   "source": [
    "a = [[Fraction(7,5),Fraction(-1,5),Fraction(3,5),Fraction(22,5)],[Fraction(1,5),Fraction(2,5),Fraction(-1,5),\n",
    "        Fraction(21,5)],[Fraction(-7,5),Fraction(1,5),Fraction(-3,5),Fraction(-2,5)],[Fraction(13,5),Fraction(6,5),Fraction(2,5),Fraction(128,5)]]\n",
    "a = dual_simplex(a)\n",
    "\n"
   ]
  },
  {
   "cell_type": "code",
   "execution_count": 79,
   "metadata": {},
   "outputs": [
    {
     "data": {
      "text/plain": [
       "[[Fraction(0, 1), Fraction(0, 1), Fraction(1, 1), Fraction(4, 1)],\n",
       " [Fraction(2, 3), Fraction(1, 3), Fraction(-1, 3), Fraction(13, 3)],\n",
       " [Fraction(7, 3), Fraction(-1, 3), Fraction(-5, 3), Fraction(2, 3)],\n",
       " [Fraction(5, 3), Fraction(4, 3), Fraction(2, 3), Fraction(76, 3)]]"
      ]
     },
     "execution_count": 79,
     "metadata": {},
     "output_type": "execute_result"
    }
   ],
   "source": [
    "a"
   ]
  },
  {
   "cell_type": "code",
   "execution_count": 80,
   "metadata": {},
   "outputs": [
    {
     "name": "stdout",
     "output_type": "stream",
     "text": [
      "The pivot is  3 2\n"
     ]
    }
   ],
   "source": [
    "tmp = copy.deepcopy(a[-1])\n",
    "a[-1] = [Fraction(2,3),Fraction(1,3),Fraction(-1,3),Fraction(-2,3)]\n",
    "a.append(tmp)\n",
    "a = dual_simplex(a)"
   ]
  },
  {
   "cell_type": "code",
   "execution_count": 81,
   "metadata": {},
   "outputs": [
    {
     "data": {
      "text/plain": [
       "[[Fraction(2, 1), Fraction(1, 1), Fraction(3, 1), Fraction(2, 1)],\n",
       " [Fraction(0, 1), Fraction(0, 1), Fraction(-1, 1), Fraction(5, 1)],\n",
       " [Fraction(-1, 1), Fraction(-2, 1), Fraction(-5, 1), Fraction(4, 1)],\n",
       " [Fraction(-2, 1), Fraction(-1, 1), Fraction(-3, 1), Fraction(2, 1)],\n",
       " [Fraction(3, 1), Fraction(2, 1), Fraction(2, 1), Fraction(24, 1)]]"
      ]
     },
     "execution_count": 81,
     "metadata": {},
     "output_type": "execute_result"
    }
   ],
   "source": [
    "a"
   ]
  },
  {
   "cell_type": "markdown",
   "metadata": {},
   "source": [
    "$X_3 \\geq 5$"
   ]
  },
  {
   "cell_type": "code",
   "execution_count": 83,
   "metadata": {},
   "outputs": [
    {
     "name": "stdout",
     "output_type": "stream",
     "text": [
      "The pivot is  2 1\n"
     ]
    },
    {
     "data": {
      "text/plain": [
       "[[Fraction(0, 1), Fraction(-1, 1), Fraction(0, 1), Fraction(5, 1)],\n",
       " [Fraction(3, 1), Fraction(2, 1), Fraction(1, 1), Fraction(3, 1)],\n",
       " [Fraction(-7, 1), Fraction(-5, 1), Fraction(-3, 1), Fraction(3, 1)],\n",
       " [Fraction(11, 1), Fraction(6, 1), Fraction(4, 1), Fraction(22, 1)]]"
      ]
     },
     "execution_count": 83,
     "metadata": {},
     "output_type": "execute_result"
    }
   ],
   "source": [
    "a = [[Fraction(7,5),Fraction(-1,5),Fraction(3,5),Fraction(22,5)],[Fraction(1,5),Fraction(2,5),Fraction(-1,5),\n",
    "        Fraction(21,5)],[Fraction(7,5),Fraction(-1,5),Fraction(3,5),Fraction(-3,5)],[Fraction(13,5),Fraction(6,5),Fraction(2,5),Fraction(128,5)]]\n",
    "a = dual_simplex(a)\n",
    "a"
   ]
  },
  {
   "cell_type": "code",
   "execution_count": 84,
   "metadata": {},
   "outputs": [],
   "source": [
    "import numpy as np"
   ]
  },
  {
   "cell_type": "code",
   "execution_count": 89,
   "metadata": {},
   "outputs": [],
   "source": [
    "a = np.array(([1,-1],[1,1]))"
   ]
  },
  {
   "cell_type": "code",
   "execution_count": 90,
   "metadata": {},
   "outputs": [
    {
     "data": {
      "text/plain": [
       "array([[ 1, -1],\n",
       "       [ 1,  1]])"
      ]
     },
     "execution_count": 90,
     "metadata": {},
     "output_type": "execute_result"
    }
   ],
   "source": [
    "a"
   ]
  },
  {
   "cell_type": "code",
   "execution_count": 91,
   "metadata": {},
   "outputs": [
    {
     "data": {
      "text/plain": [
       "2.0"
      ]
     },
     "execution_count": 91,
     "metadata": {},
     "output_type": "execute_result"
    }
   ],
   "source": [
    "np.linalg.det(a)"
   ]
  },
  {
   "cell_type": "code",
   "execution_count": 92,
   "metadata": {},
   "outputs": [
    {
     "data": {
      "text/plain": [
       "0.0"
      ]
     },
     "execution_count": 92,
     "metadata": {},
     "output_type": "execute_result"
    }
   ],
   "source": [
    "a = np.array(([1,-1,-1,0],[-1,0,0,1],[0,1,0,-1],[0,0,1,0]))\n",
    "np.linalg.det(a)"
   ]
  },
  {
   "cell_type": "code",
   "execution_count": 93,
   "metadata": {},
   "outputs": [
    {
     "ename": "LinAlgError",
     "evalue": "Last 2 dimensions of the array must be square",
     "output_type": "error",
     "traceback": [
      "\u001b[1;31m---------------------------------------------------------------------------\u001b[0m",
      "\u001b[1;31mLinAlgError\u001b[0m                               Traceback (most recent call last)",
      "\u001b[1;32m<ipython-input-93-d3b894dd62fe>\u001b[0m in \u001b[0;36m<module>\u001b[1;34m\u001b[0m\n\u001b[0;32m      1\u001b[0m \u001b[0ma\u001b[0m \u001b[1;33m=\u001b[0m \u001b[0mnp\u001b[0m\u001b[1;33m.\u001b[0m\u001b[0marray\u001b[0m\u001b[1;33m(\u001b[0m\u001b[1;33m(\u001b[0m\u001b[1;33m[\u001b[0m\u001b[1;36m0\u001b[0m\u001b[1;33m,\u001b[0m\u001b[1;36m0\u001b[0m\u001b[1;33m,\u001b[0m\u001b[1;36m0\u001b[0m\u001b[1;33m,\u001b[0m\u001b[1;36m1\u001b[0m\u001b[1;33m,\u001b[0m\u001b[1;36m0\u001b[0m\u001b[1;33m,\u001b[0m\u001b[1;36m0\u001b[0m\u001b[1;33m,\u001b[0m\u001b[1;36m0\u001b[0m\u001b[1;33m]\u001b[0m\u001b[1;33m,\u001b[0m\u001b[1;33m[\u001b[0m\u001b[1;36m1\u001b[0m\u001b[1;33m,\u001b[0m\u001b[1;36m1\u001b[0m\u001b[1;33m,\u001b[0m\u001b[1;36m0\u001b[0m\u001b[1;33m,\u001b[0m\u001b[1;36m0\u001b[0m\u001b[1;33m,\u001b[0m\u001b[1;36m0\u001b[0m\u001b[1;33m,\u001b[0m\u001b[1;33m-\u001b[0m\u001b[1;36m1\u001b[0m\u001b[1;33m,\u001b[0m\u001b[1;36m0\u001b[0m\u001b[1;33m]\u001b[0m\u001b[1;33m,\u001b[0m\u001b[1;33m[\u001b[0m\u001b[1;36m0\u001b[0m\u001b[1;33m,\u001b[0m\u001b[1;36m0\u001b[0m\u001b[1;33m,\u001b[0m\u001b[1;36m0\u001b[0m\u001b[1;33m,\u001b[0m\u001b[1;36m0\u001b[0m\u001b[1;33m,\u001b[0m\u001b[1;36m1\u001b[0m\u001b[1;33m,\u001b[0m\u001b[1;36m1\u001b[0m\u001b[1;33m,\u001b[0m\u001b[1;36m0\u001b[0m\u001b[1;33m]\u001b[0m\u001b[1;33m,\u001b[0m\u001b[1;33m[\u001b[0m\u001b[1;36m0\u001b[0m\u001b[1;33m,\u001b[0m\u001b[1;36m0\u001b[0m\u001b[1;33m,\u001b[0m\u001b[1;36m0\u001b[0m\u001b[1;33m,\u001b[0m\u001b[1;36m0\u001b[0m\u001b[1;33m,\u001b[0m\u001b[1;33m-\u001b[0m\u001b[1;36m1\u001b[0m\u001b[1;33m,\u001b[0m\u001b[1;36m0\u001b[0m\u001b[1;33m,\u001b[0m\u001b[1;36m0\u001b[0m\u001b[1;33m]\u001b[0m\u001b[1;33m,\u001b[0m\u001b[1;33m[\u001b[0m\u001b[1;36m0\u001b[0m\u001b[1;33m,\u001b[0m\u001b[1;36m1\u001b[0m\u001b[1;33m,\u001b[0m\u001b[1;36m1\u001b[0m\u001b[1;33m,\u001b[0m\u001b[1;36m0\u001b[0m\u001b[1;33m,\u001b[0m\u001b[1;36m0\u001b[0m\u001b[1;33m,\u001b[0m\u001b[1;36m0\u001b[0m\u001b[1;33m,\u001b[0m\u001b[1;33m-\u001b[0m\u001b[1;36m1\u001b[0m\u001b[1;33m]\u001b[0m\u001b[1;33m,\u001b[0m\u001b[1;33m[\u001b[0m\u001b[1;36m1\u001b[0m\u001b[1;33m,\u001b[0m\u001b[1;36m0\u001b[0m\u001b[1;33m,\u001b[0m\u001b[1;36m0\u001b[0m\u001b[1;33m,\u001b[0m\u001b[1;36m1\u001b[0m\u001b[1;33m,\u001b[0m\u001b[1;36m0\u001b[0m\u001b[1;33m,\u001b[0m\u001b[1;36m0\u001b[0m\u001b[1;33m,\u001b[0m\u001b[1;36m1\u001b[0m\u001b[1;33m]\u001b[0m\u001b[1;33m)\u001b[0m\u001b[1;33m)\u001b[0m\u001b[1;33m\u001b[0m\u001b[1;33m\u001b[0m\u001b[0m\n\u001b[1;32m----> 2\u001b[1;33m \u001b[0mnp\u001b[0m\u001b[1;33m.\u001b[0m\u001b[0mlinalg\u001b[0m\u001b[1;33m.\u001b[0m\u001b[0mdet\u001b[0m\u001b[1;33m(\u001b[0m\u001b[0ma\u001b[0m\u001b[1;33m)\u001b[0m\u001b[1;33m\u001b[0m\u001b[1;33m\u001b[0m\u001b[0m\n\u001b[0m",
      "\u001b[1;32m<__array_function__ internals>\u001b[0m in \u001b[0;36mdet\u001b[1;34m(*args, **kwargs)\u001b[0m\n",
      "\u001b[1;32mC:\\ProgramData\\Anaconda3\\lib\\site-packages\\numpy\\linalg\\linalg.py\u001b[0m in \u001b[0;36mdet\u001b[1;34m(a)\u001b[0m\n\u001b[0;32m   2111\u001b[0m     \u001b[0ma\u001b[0m \u001b[1;33m=\u001b[0m \u001b[0masarray\u001b[0m\u001b[1;33m(\u001b[0m\u001b[0ma\u001b[0m\u001b[1;33m)\u001b[0m\u001b[1;33m\u001b[0m\u001b[1;33m\u001b[0m\u001b[0m\n\u001b[0;32m   2112\u001b[0m     \u001b[0m_assert_stacked_2d\u001b[0m\u001b[1;33m(\u001b[0m\u001b[0ma\u001b[0m\u001b[1;33m)\u001b[0m\u001b[1;33m\u001b[0m\u001b[1;33m\u001b[0m\u001b[0m\n\u001b[1;32m-> 2113\u001b[1;33m     \u001b[0m_assert_stacked_square\u001b[0m\u001b[1;33m(\u001b[0m\u001b[0ma\u001b[0m\u001b[1;33m)\u001b[0m\u001b[1;33m\u001b[0m\u001b[1;33m\u001b[0m\u001b[0m\n\u001b[0m\u001b[0;32m   2114\u001b[0m     \u001b[0mt\u001b[0m\u001b[1;33m,\u001b[0m \u001b[0mresult_t\u001b[0m \u001b[1;33m=\u001b[0m \u001b[0m_commonType\u001b[0m\u001b[1;33m(\u001b[0m\u001b[0ma\u001b[0m\u001b[1;33m)\u001b[0m\u001b[1;33m\u001b[0m\u001b[1;33m\u001b[0m\u001b[0m\n\u001b[0;32m   2115\u001b[0m     \u001b[0msignature\u001b[0m \u001b[1;33m=\u001b[0m \u001b[1;34m'D->D'\u001b[0m \u001b[1;32mif\u001b[0m \u001b[0misComplexType\u001b[0m\u001b[1;33m(\u001b[0m\u001b[0mt\u001b[0m\u001b[1;33m)\u001b[0m \u001b[1;32melse\u001b[0m \u001b[1;34m'd->d'\u001b[0m\u001b[1;33m\u001b[0m\u001b[1;33m\u001b[0m\u001b[0m\n",
      "\u001b[1;32mC:\\ProgramData\\Anaconda3\\lib\\site-packages\\numpy\\linalg\\linalg.py\u001b[0m in \u001b[0;36m_assert_stacked_square\u001b[1;34m(*arrays)\u001b[0m\n\u001b[0;32m    211\u001b[0m         \u001b[0mm\u001b[0m\u001b[1;33m,\u001b[0m \u001b[0mn\u001b[0m \u001b[1;33m=\u001b[0m \u001b[0ma\u001b[0m\u001b[1;33m.\u001b[0m\u001b[0mshape\u001b[0m\u001b[1;33m[\u001b[0m\u001b[1;33m-\u001b[0m\u001b[1;36m2\u001b[0m\u001b[1;33m:\u001b[0m\u001b[1;33m]\u001b[0m\u001b[1;33m\u001b[0m\u001b[1;33m\u001b[0m\u001b[0m\n\u001b[0;32m    212\u001b[0m         \u001b[1;32mif\u001b[0m \u001b[0mm\u001b[0m \u001b[1;33m!=\u001b[0m \u001b[0mn\u001b[0m\u001b[1;33m:\u001b[0m\u001b[1;33m\u001b[0m\u001b[1;33m\u001b[0m\u001b[0m\n\u001b[1;32m--> 213\u001b[1;33m             \u001b[1;32mraise\u001b[0m \u001b[0mLinAlgError\u001b[0m\u001b[1;33m(\u001b[0m\u001b[1;34m'Last 2 dimensions of the array must be square'\u001b[0m\u001b[1;33m)\u001b[0m\u001b[1;33m\u001b[0m\u001b[1;33m\u001b[0m\u001b[0m\n\u001b[0m\u001b[0;32m    214\u001b[0m \u001b[1;33m\u001b[0m\u001b[0m\n\u001b[0;32m    215\u001b[0m \u001b[1;32mdef\u001b[0m \u001b[0m_assert_finite\u001b[0m\u001b[1;33m(\u001b[0m\u001b[1;33m*\u001b[0m\u001b[0marrays\u001b[0m\u001b[1;33m)\u001b[0m\u001b[1;33m:\u001b[0m\u001b[1;33m\u001b[0m\u001b[1;33m\u001b[0m\u001b[0m\n",
      "\u001b[1;31mLinAlgError\u001b[0m: Last 2 dimensions of the array must be square"
     ]
    }
   ],
   "source": [
    "a = np.array(([0,0,0,1,0,0,0],[1,1,0,0,0,-1,0],[0,0,0,0,1,1,0],[0,0,0,0,-1,0,0],[0,1,1,0,0,0,-1],[1,0,0,1,0,0,1]))\n",
    "np.linalg.det(a)"
   ]
  },
  {
   "cell_type": "code",
   "execution_count": 3,
   "metadata": {},
   "outputs": [],
   "source": [
    "b = [[Fraction(0, 1), Fraction(0, 1), Fraction(1, 1), Fraction(4, 1)],\n",
    " [Fraction(1, 1), Fraction(0, 1), Fraction(0, 1), Fraction(4, 1)],\n",
    " [Fraction(-7, 3), Fraction(-2, 3), Fraction(1, 3), Fraction(1, 3)],\n",
    " [Fraction(-1, 3), Fraction(1, 3), Fraction(-2, 3), Fraction(1, 3)],\n",
    " [Fraction(1, 3), Fraction(-1, 3), Fraction(2, 3), Fraction(-1, 3)],\n",
    " [Fraction(11, 3), Fraction(1, 3), Fraction(4, 3), Fraction(73, 3)]]"
   ]
  },
  {
   "cell_type": "code",
   "execution_count": 9,
   "metadata": {},
   "outputs": [
    {
     "name": "stdout",
     "output_type": "stream",
     "text": [
      "The pivot is  4 1\n"
     ]
    }
   ],
   "source": [
    "b = dual_simplex(b)"
   ]
  },
  {
   "cell_type": "code",
   "execution_count": 10,
   "metadata": {},
   "outputs": [
    {
     "data": {
      "text/plain": [
       "[[Fraction(0, 1), Fraction(0, 1), Fraction(1, 1), Fraction(4, 1)],\n",
       " [Fraction(1, 1), Fraction(0, 1), Fraction(0, 1), Fraction(4, 1)],\n",
       " [Fraction(-3, 1), Fraction(-2, 1), Fraction(-1, 1), Fraction(1, 1)],\n",
       " [Fraction(0, 1), Fraction(1, 1), Fraction(0, 1), Fraction(0, 1)],\n",
       " [Fraction(-1, 1), Fraction(-3, 1), Fraction(-2, 1), Fraction(1, 1)],\n",
       " [Fraction(4, 1), Fraction(1, 1), Fraction(2, 1), Fraction(24, 1)]]"
      ]
     },
     "execution_count": 10,
     "metadata": {},
     "output_type": "execute_result"
    }
   ],
   "source": [
    "b"
   ]
  },
  {
   "cell_type": "code",
   "execution_count": null,
   "metadata": {},
   "outputs": [],
   "source": []
  }
 ],
 "metadata": {
  "kernelspec": {
   "display_name": "Python 3",
   "language": "python",
   "name": "python3"
  },
  "language_info": {
   "codemirror_mode": {
    "name": "ipython",
    "version": 3
   },
   "file_extension": ".py",
   "mimetype": "text/x-python",
   "name": "python",
   "nbconvert_exporter": "python",
   "pygments_lexer": "ipython3",
   "version": "3.7.6"
  }
 },
 "nbformat": 4,
 "nbformat_minor": 4
}
